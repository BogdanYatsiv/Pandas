{
 "cells": [
  {
   "cell_type": "markdown",
   "metadata": {},
   "source": [
    "# Завдання "
   ]
  },
  {
   "cell_type": "markdown",
   "metadata": {},
   "source": [
    "### 1)Завантажте файли DataMeters.csv та Prices.csv на локальний комп’ютер "
   ]
  },
  {
   "cell_type": "markdown",
   "metadata": {},
   "source": [
    "### 2)Завантажте їх у jupyter notebook як DataFame "
   ]
  },
  {
   "cell_type": "code",
   "execution_count": 58,
   "metadata": {},
   "outputs": [
    {
     "data": {
      "text/html": [
       "<div>\n",
       "<style scoped>\n",
       "    .dataframe tbody tr th:only-of-type {\n",
       "        vertical-align: middle;\n",
       "    }\n",
       "\n",
       "    .dataframe tbody tr th {\n",
       "        vertical-align: top;\n",
       "    }\n",
       "\n",
       "    .dataframe thead th {\n",
       "        text-align: right;\n",
       "    }\n",
       "</style>\n",
       "<table border=\"1\" class=\"dataframe\">\n",
       "  <thead>\n",
       "    <tr style=\"text-align: right;\">\n",
       "      <th></th>\n",
       "      <th>date</th>\n",
       "      <th>upto100</th>\n",
       "      <th>more</th>\n",
       "      <th>gas</th>\n",
       "    </tr>\n",
       "  </thead>\n",
       "  <tbody>\n",
       "    <tr>\n",
       "      <th>0</th>\n",
       "      <td>01.01.2017</td>\n",
       "      <td>0.714</td>\n",
       "      <td>1.29</td>\n",
       "      <td>6.8790</td>\n",
       "    </tr>\n",
       "    <tr>\n",
       "      <th>1</th>\n",
       "      <td>01.02.2017</td>\n",
       "      <td>NaN</td>\n",
       "      <td>NaN</td>\n",
       "      <td>NaN</td>\n",
       "    </tr>\n",
       "    <tr>\n",
       "      <th>2</th>\n",
       "      <td>01.03.2017</td>\n",
       "      <td>0.900</td>\n",
       "      <td>1.68</td>\n",
       "      <td>NaN</td>\n",
       "    </tr>\n",
       "    <tr>\n",
       "      <th>3</th>\n",
       "      <td>01.04.2017</td>\n",
       "      <td>0.900</td>\n",
       "      <td>1.68</td>\n",
       "      <td>6.9579</td>\n",
       "    </tr>\n",
       "    <tr>\n",
       "      <th>4</th>\n",
       "      <td>01.05.2017</td>\n",
       "      <td>NaN</td>\n",
       "      <td>NaN</td>\n",
       "      <td>6.9579</td>\n",
       "    </tr>\n",
       "    <tr>\n",
       "      <th>5</th>\n",
       "      <td>01.06.2017</td>\n",
       "      <td>NaN</td>\n",
       "      <td>NaN</td>\n",
       "      <td>NaN</td>\n",
       "    </tr>\n",
       "    <tr>\n",
       "      <th>6</th>\n",
       "      <td>01.07.2017</td>\n",
       "      <td>NaN</td>\n",
       "      <td>NaN</td>\n",
       "      <td>NaN</td>\n",
       "    </tr>\n",
       "    <tr>\n",
       "      <th>7</th>\n",
       "      <td>01.08.2017</td>\n",
       "      <td>NaN</td>\n",
       "      <td>NaN</td>\n",
       "      <td>NaN</td>\n",
       "    </tr>\n",
       "    <tr>\n",
       "      <th>8</th>\n",
       "      <td>01.09.2017</td>\n",
       "      <td>NaN</td>\n",
       "      <td>NaN</td>\n",
       "      <td>NaN</td>\n",
       "    </tr>\n",
       "    <tr>\n",
       "      <th>9</th>\n",
       "      <td>01.10.2017</td>\n",
       "      <td>NaN</td>\n",
       "      <td>NaN</td>\n",
       "      <td>NaN</td>\n",
       "    </tr>\n",
       "    <tr>\n",
       "      <th>10</th>\n",
       "      <td>01.11.2017</td>\n",
       "      <td>NaN</td>\n",
       "      <td>NaN</td>\n",
       "      <td>NaN</td>\n",
       "    </tr>\n",
       "    <tr>\n",
       "      <th>11</th>\n",
       "      <td>01.12.2017</td>\n",
       "      <td>NaN</td>\n",
       "      <td>NaN</td>\n",
       "      <td>NaN</td>\n",
       "    </tr>\n",
       "    <tr>\n",
       "      <th>12</th>\n",
       "      <td>01.01.2018</td>\n",
       "      <td>NaN</td>\n",
       "      <td>NaN</td>\n",
       "      <td>NaN</td>\n",
       "    </tr>\n",
       "  </tbody>\n",
       "</table>\n",
       "</div>"
      ],
      "text/plain": [
       "          date  upto100  more     gas\n",
       "0   01.01.2017    0.714  1.29  6.8790\n",
       "1   01.02.2017      NaN   NaN     NaN\n",
       "2   01.03.2017    0.900  1.68     NaN\n",
       "3   01.04.2017    0.900  1.68  6.9579\n",
       "4   01.05.2017      NaN   NaN  6.9579\n",
       "5   01.06.2017      NaN   NaN     NaN\n",
       "6   01.07.2017      NaN   NaN     NaN\n",
       "7   01.08.2017      NaN   NaN     NaN\n",
       "8   01.09.2017      NaN   NaN     NaN\n",
       "9   01.10.2017      NaN   NaN     NaN\n",
       "10  01.11.2017      NaN   NaN     NaN\n",
       "11  01.12.2017      NaN   NaN     NaN\n",
       "12  01.01.2018      NaN   NaN     NaN"
      ]
     },
     "execution_count": 58,
     "metadata": {},
     "output_type": "execute_result"
    }
   ],
   "source": [
    "import numpy as np\n",
    "import pandas as pd\n",
    "import matplotlib.pyplot as plt\n",
    "\n",
    "data_meters = pd.read_csv(\"DataMeters.csv\", delimiter = \";\")\n",
    "prices = pd.read_csv(\"Prices.csv\", delimiter = \";\")\n",
    "\n",
    "prices"
   ]
  },
  {
   "cell_type": "code",
   "execution_count": 2,
   "metadata": {},
   "outputs": [
    {
     "data": {
      "text/html": [
       "<div>\n",
       "<style scoped>\n",
       "    .dataframe tbody tr th:only-of-type {\n",
       "        vertical-align: middle;\n",
       "    }\n",
       "\n",
       "    .dataframe tbody tr th {\n",
       "        vertical-align: top;\n",
       "    }\n",
       "\n",
       "    .dataframe thead th {\n",
       "        text-align: right;\n",
       "    }\n",
       "</style>\n",
       "<table border=\"1\" class=\"dataframe\">\n",
       "  <thead>\n",
       "    <tr style=\"text-align: right;\">\n",
       "      <th></th>\n",
       "      <th>user_id</th>\n",
       "      <th>date</th>\n",
       "      <th>e_meter</th>\n",
       "      <th>g_meter</th>\n",
       "      <th>town</th>\n",
       "      <th>street</th>\n",
       "      <th>name</th>\n",
       "    </tr>\n",
       "  </thead>\n",
       "  <tbody>\n",
       "    <tr>\n",
       "      <th>0</th>\n",
       "      <td>200125</td>\n",
       "      <td>01.01.2017</td>\n",
       "      <td>1719</td>\n",
       "      <td>163</td>\n",
       "      <td>Lviv</td>\n",
       "      <td>Street_5</td>\n",
       "      <td>Name_1</td>\n",
       "    </tr>\n",
       "    <tr>\n",
       "      <th>1</th>\n",
       "      <td>200126</td>\n",
       "      <td>01.01.2017</td>\n",
       "      <td>3048</td>\n",
       "      <td>179</td>\n",
       "      <td>Lviv</td>\n",
       "      <td>Street_9</td>\n",
       "      <td>Name_2</td>\n",
       "    </tr>\n",
       "    <tr>\n",
       "      <th>2</th>\n",
       "      <td>200127</td>\n",
       "      <td>01.01.2017</td>\n",
       "      <td>3402</td>\n",
       "      <td>180</td>\n",
       "      <td>Lviv</td>\n",
       "      <td>Street_10</td>\n",
       "      <td>Name_3</td>\n",
       "    </tr>\n",
       "    <tr>\n",
       "      <th>3</th>\n",
       "      <td>200128</td>\n",
       "      <td>01.01.2017</td>\n",
       "      <td>1256</td>\n",
       "      <td>140</td>\n",
       "      <td>Stryi</td>\n",
       "      <td>Street_5</td>\n",
       "      <td>Name_4</td>\n",
       "    </tr>\n",
       "    <tr>\n",
       "      <th>4</th>\n",
       "      <td>200129</td>\n",
       "      <td>01.01.2017</td>\n",
       "      <td>1873</td>\n",
       "      <td>165</td>\n",
       "      <td>Gorodok</td>\n",
       "      <td>Street_8</td>\n",
       "      <td>Name_5</td>\n",
       "    </tr>\n",
       "    <tr>\n",
       "      <th>...</th>\n",
       "      <td>...</td>\n",
       "      <td>...</td>\n",
       "      <td>...</td>\n",
       "      <td>...</td>\n",
       "      <td>...</td>\n",
       "      <td>...</td>\n",
       "      <td>...</td>\n",
       "    </tr>\n",
       "    <tr>\n",
       "      <th>983</th>\n",
       "      <td>200196</td>\n",
       "      <td>01.01.2018</td>\n",
       "      <td>5029</td>\n",
       "      <td>249</td>\n",
       "      <td>Lviv</td>\n",
       "      <td>Street_6</td>\n",
       "      <td>Name_72</td>\n",
       "    </tr>\n",
       "    <tr>\n",
       "      <th>984</th>\n",
       "      <td>200197</td>\n",
       "      <td>01.01.2018</td>\n",
       "      <td>3212</td>\n",
       "      <td>240</td>\n",
       "      <td>Lviv</td>\n",
       "      <td>Street_10</td>\n",
       "      <td>Name_73</td>\n",
       "    </tr>\n",
       "    <tr>\n",
       "      <th>985</th>\n",
       "      <td>200198</td>\n",
       "      <td>01.01.2018</td>\n",
       "      <td>6536</td>\n",
       "      <td>243</td>\n",
       "      <td>Lviv</td>\n",
       "      <td>Street_10</td>\n",
       "      <td>Name_74</td>\n",
       "    </tr>\n",
       "    <tr>\n",
       "      <th>986</th>\n",
       "      <td>200199</td>\n",
       "      <td>01.01.2018</td>\n",
       "      <td>6790</td>\n",
       "      <td>311</td>\n",
       "      <td>Vynnyky</td>\n",
       "      <td>Street_4</td>\n",
       "      <td>Name_75</td>\n",
       "    </tr>\n",
       "    <tr>\n",
       "      <th>987</th>\n",
       "      <td>200200</td>\n",
       "      <td>01.01.2018</td>\n",
       "      <td>2898</td>\n",
       "      <td>297</td>\n",
       "      <td>Vynnyky</td>\n",
       "      <td>Street_6</td>\n",
       "      <td>Name_76</td>\n",
       "    </tr>\n",
       "  </tbody>\n",
       "</table>\n",
       "<p>988 rows × 7 columns</p>\n",
       "</div>"
      ],
      "text/plain": [
       "     user_id        date  e_meter  g_meter     town     street     name\n",
       "0     200125  01.01.2017     1719      163     Lviv   Street_5   Name_1\n",
       "1     200126  01.01.2017     3048      179     Lviv   Street_9   Name_2\n",
       "2     200127  01.01.2017     3402      180     Lviv  Street_10   Name_3\n",
       "3     200128  01.01.2017     1256      140    Stryi   Street_5   Name_4\n",
       "4     200129  01.01.2017     1873      165  Gorodok   Street_8   Name_5\n",
       "..       ...         ...      ...      ...      ...        ...      ...\n",
       "983   200196  01.01.2018     5029      249     Lviv   Street_6  Name_72\n",
       "984   200197  01.01.2018     3212      240     Lviv  Street_10  Name_73\n",
       "985   200198  01.01.2018     6536      243     Lviv  Street_10  Name_74\n",
       "986   200199  01.01.2018     6790      311  Vynnyky   Street_4  Name_75\n",
       "987   200200  01.01.2018     2898      297  Vynnyky   Street_6  Name_76\n",
       "\n",
       "[988 rows x 7 columns]"
      ]
     },
     "execution_count": 2,
     "metadata": {},
     "output_type": "execute_result"
    }
   ],
   "source": [
    "data_meters"
   ]
  },
  {
   "cell_type": "markdown",
   "metadata": {},
   "source": [
    "### 3)Заповніть пропуски в таблиці Prices значеннями з попередніх (за календарем) клітинок "
   ]
  },
  {
   "cell_type": "code",
   "execution_count": 3,
   "metadata": {},
   "outputs": [
    {
     "name": "stderr",
     "output_type": "stream",
     "text": [
      "c:\\users\\andriy\\appdata\\local\\programs\\python\\python37\\lib\\site-packages\\ipykernel_launcher.py:8: SettingWithCopyWarning: \n",
      "A value is trying to be set on a copy of a slice from a DataFrame\n",
      "\n",
      "See the caveats in the documentation: http://pandas.pydata.org/pandas-docs/stable/user_guide/indexing.html#returning-a-view-versus-a-copy\n",
      "  \n"
     ]
    },
    {
     "data": {
      "text/html": [
       "<div>\n",
       "<style scoped>\n",
       "    .dataframe tbody tr th:only-of-type {\n",
       "        vertical-align: middle;\n",
       "    }\n",
       "\n",
       "    .dataframe tbody tr th {\n",
       "        vertical-align: top;\n",
       "    }\n",
       "\n",
       "    .dataframe thead th {\n",
       "        text-align: right;\n",
       "    }\n",
       "</style>\n",
       "<table border=\"1\" class=\"dataframe\">\n",
       "  <thead>\n",
       "    <tr style=\"text-align: right;\">\n",
       "      <th></th>\n",
       "      <th>date</th>\n",
       "      <th>upto100</th>\n",
       "      <th>more</th>\n",
       "      <th>gas</th>\n",
       "    </tr>\n",
       "  </thead>\n",
       "  <tbody>\n",
       "    <tr>\n",
       "      <th>0</th>\n",
       "      <td>01.01.2017</td>\n",
       "      <td>0.714</td>\n",
       "      <td>1.29</td>\n",
       "      <td>6.8790</td>\n",
       "    </tr>\n",
       "    <tr>\n",
       "      <th>1</th>\n",
       "      <td>01.02.2017</td>\n",
       "      <td>0.714</td>\n",
       "      <td>1.29</td>\n",
       "      <td>6.8790</td>\n",
       "    </tr>\n",
       "    <tr>\n",
       "      <th>2</th>\n",
       "      <td>01.03.2017</td>\n",
       "      <td>0.900</td>\n",
       "      <td>1.68</td>\n",
       "      <td>6.8790</td>\n",
       "    </tr>\n",
       "    <tr>\n",
       "      <th>3</th>\n",
       "      <td>01.04.2017</td>\n",
       "      <td>0.900</td>\n",
       "      <td>1.68</td>\n",
       "      <td>6.9579</td>\n",
       "    </tr>\n",
       "    <tr>\n",
       "      <th>4</th>\n",
       "      <td>01.05.2017</td>\n",
       "      <td>0.900</td>\n",
       "      <td>1.68</td>\n",
       "      <td>6.9579</td>\n",
       "    </tr>\n",
       "    <tr>\n",
       "      <th>5</th>\n",
       "      <td>01.06.2017</td>\n",
       "      <td>0.900</td>\n",
       "      <td>1.68</td>\n",
       "      <td>6.9579</td>\n",
       "    </tr>\n",
       "    <tr>\n",
       "      <th>6</th>\n",
       "      <td>01.07.2017</td>\n",
       "      <td>0.900</td>\n",
       "      <td>1.68</td>\n",
       "      <td>6.9579</td>\n",
       "    </tr>\n",
       "    <tr>\n",
       "      <th>7</th>\n",
       "      <td>01.08.2017</td>\n",
       "      <td>0.900</td>\n",
       "      <td>1.68</td>\n",
       "      <td>6.9579</td>\n",
       "    </tr>\n",
       "    <tr>\n",
       "      <th>8</th>\n",
       "      <td>01.09.2017</td>\n",
       "      <td>0.900</td>\n",
       "      <td>1.68</td>\n",
       "      <td>6.9579</td>\n",
       "    </tr>\n",
       "    <tr>\n",
       "      <th>9</th>\n",
       "      <td>01.10.2017</td>\n",
       "      <td>0.900</td>\n",
       "      <td>1.68</td>\n",
       "      <td>6.9579</td>\n",
       "    </tr>\n",
       "    <tr>\n",
       "      <th>10</th>\n",
       "      <td>01.11.2017</td>\n",
       "      <td>0.900</td>\n",
       "      <td>1.68</td>\n",
       "      <td>6.9579</td>\n",
       "    </tr>\n",
       "    <tr>\n",
       "      <th>11</th>\n",
       "      <td>01.12.2017</td>\n",
       "      <td>0.900</td>\n",
       "      <td>1.68</td>\n",
       "      <td>6.9579</td>\n",
       "    </tr>\n",
       "    <tr>\n",
       "      <th>12</th>\n",
       "      <td>01.01.2018</td>\n",
       "      <td>0.900</td>\n",
       "      <td>1.68</td>\n",
       "      <td>6.9579</td>\n",
       "    </tr>\n",
       "  </tbody>\n",
       "</table>\n",
       "</div>"
      ],
      "text/plain": [
       "          date  upto100  more     gas\n",
       "0   01.01.2017    0.714  1.29  6.8790\n",
       "1   01.02.2017    0.714  1.29  6.8790\n",
       "2   01.03.2017    0.900  1.68  6.8790\n",
       "3   01.04.2017    0.900  1.68  6.9579\n",
       "4   01.05.2017    0.900  1.68  6.9579\n",
       "5   01.06.2017    0.900  1.68  6.9579\n",
       "6   01.07.2017    0.900  1.68  6.9579\n",
       "7   01.08.2017    0.900  1.68  6.9579\n",
       "8   01.09.2017    0.900  1.68  6.9579\n",
       "9   01.10.2017    0.900  1.68  6.9579\n",
       "10  01.11.2017    0.900  1.68  6.9579\n",
       "11  01.12.2017    0.900  1.68  6.9579\n",
       "12  01.01.2018    0.900  1.68  6.9579"
      ]
     },
     "execution_count": 3,
     "metadata": {},
     "output_type": "execute_result"
    }
   ],
   "source": [
    "pr_indexes = list(prices.index)\n",
    "pr_columns = list(prices.columns)[1:]\n",
    "\n",
    "\n",
    "for column in pr_columns:\n",
    "    for i in pr_indexes:\n",
    "        if pd.isna(prices[column][i]):\n",
    "            prices[column][i] = prices[column][i-1]\n",
    "\n",
    "prices"
   ]
  },
  {
   "cell_type": "markdown",
   "metadata": {},
   "source": [
    "### 4)Випробуйте різні способи доступу до даних: вибірка, проекція. "
   ]
  },
  {
   "cell_type": "markdown",
   "metadata": {},
   "source": [
    "Вибірка:"
   ]
  },
  {
   "cell_type": "code",
   "execution_count": 4,
   "metadata": {},
   "outputs": [
    {
     "name": "stdout",
     "output_type": "stream",
     "text": [
      "0.7140000000000001\n",
      "01.06.2017\n",
      "1.29\n",
      "6.879\n"
     ]
    }
   ],
   "source": [
    "pr_indexes = list(prices.index)\n",
    "pr_columns = list(prices.columns)[1:]\n",
    "\n",
    "print(prices[pr_columns[0]][pr_indexes[0]])\n",
    "print(prices[\"date\"][5])\n",
    "print(prices[pr_columns[1]][pr_indexes[1]])\n",
    "print(prices[pr_columns[2]][pr_indexes[1]])"
   ]
  },
  {
   "cell_type": "markdown",
   "metadata": {},
   "source": [
    "Проекція:"
   ]
  },
  {
   "cell_type": "code",
   "execution_count": 5,
   "metadata": {},
   "outputs": [
    {
     "data": {
      "text/plain": [
       "0     01.01.2017\n",
       "1     01.02.2017\n",
       "2     01.03.2017\n",
       "3     01.04.2017\n",
       "4     01.05.2017\n",
       "5     01.06.2017\n",
       "6     01.07.2017\n",
       "7     01.08.2017\n",
       "8     01.09.2017\n",
       "9     01.10.2017\n",
       "10    01.11.2017\n",
       "11    01.12.2017\n",
       "12    01.01.2018\n",
       "Name: date, dtype: object"
      ]
     },
     "execution_count": 5,
     "metadata": {},
     "output_type": "execute_result"
    }
   ],
   "source": [
    "prices[\"date\"]"
   ]
  },
  {
   "cell_type": "code",
   "execution_count": 6,
   "metadata": {},
   "outputs": [
    {
     "data": {
      "text/html": [
       "<div>\n",
       "<style scoped>\n",
       "    .dataframe tbody tr th:only-of-type {\n",
       "        vertical-align: middle;\n",
       "    }\n",
       "\n",
       "    .dataframe tbody tr th {\n",
       "        vertical-align: top;\n",
       "    }\n",
       "\n",
       "    .dataframe thead th {\n",
       "        text-align: right;\n",
       "    }\n",
       "</style>\n",
       "<table border=\"1\" class=\"dataframe\">\n",
       "  <thead>\n",
       "    <tr style=\"text-align: right;\">\n",
       "      <th></th>\n",
       "      <th>date</th>\n",
       "      <th>gas</th>\n",
       "    </tr>\n",
       "  </thead>\n",
       "  <tbody>\n",
       "    <tr>\n",
       "      <th>0</th>\n",
       "      <td>01.01.2017</td>\n",
       "      <td>6.8790</td>\n",
       "    </tr>\n",
       "    <tr>\n",
       "      <th>1</th>\n",
       "      <td>01.02.2017</td>\n",
       "      <td>6.8790</td>\n",
       "    </tr>\n",
       "    <tr>\n",
       "      <th>2</th>\n",
       "      <td>01.03.2017</td>\n",
       "      <td>6.8790</td>\n",
       "    </tr>\n",
       "    <tr>\n",
       "      <th>3</th>\n",
       "      <td>01.04.2017</td>\n",
       "      <td>6.9579</td>\n",
       "    </tr>\n",
       "    <tr>\n",
       "      <th>4</th>\n",
       "      <td>01.05.2017</td>\n",
       "      <td>6.9579</td>\n",
       "    </tr>\n",
       "    <tr>\n",
       "      <th>5</th>\n",
       "      <td>01.06.2017</td>\n",
       "      <td>6.9579</td>\n",
       "    </tr>\n",
       "    <tr>\n",
       "      <th>6</th>\n",
       "      <td>01.07.2017</td>\n",
       "      <td>6.9579</td>\n",
       "    </tr>\n",
       "    <tr>\n",
       "      <th>7</th>\n",
       "      <td>01.08.2017</td>\n",
       "      <td>6.9579</td>\n",
       "    </tr>\n",
       "    <tr>\n",
       "      <th>8</th>\n",
       "      <td>01.09.2017</td>\n",
       "      <td>6.9579</td>\n",
       "    </tr>\n",
       "    <tr>\n",
       "      <th>9</th>\n",
       "      <td>01.10.2017</td>\n",
       "      <td>6.9579</td>\n",
       "    </tr>\n",
       "    <tr>\n",
       "      <th>10</th>\n",
       "      <td>01.11.2017</td>\n",
       "      <td>6.9579</td>\n",
       "    </tr>\n",
       "    <tr>\n",
       "      <th>11</th>\n",
       "      <td>01.12.2017</td>\n",
       "      <td>6.9579</td>\n",
       "    </tr>\n",
       "    <tr>\n",
       "      <th>12</th>\n",
       "      <td>01.01.2018</td>\n",
       "      <td>6.9579</td>\n",
       "    </tr>\n",
       "  </tbody>\n",
       "</table>\n",
       "</div>"
      ],
      "text/plain": [
       "          date     gas\n",
       "0   01.01.2017  6.8790\n",
       "1   01.02.2017  6.8790\n",
       "2   01.03.2017  6.8790\n",
       "3   01.04.2017  6.9579\n",
       "4   01.05.2017  6.9579\n",
       "5   01.06.2017  6.9579\n",
       "6   01.07.2017  6.9579\n",
       "7   01.08.2017  6.9579\n",
       "8   01.09.2017  6.9579\n",
       "9   01.10.2017  6.9579\n",
       "10  01.11.2017  6.9579\n",
       "11  01.12.2017  6.9579\n",
       "12  01.01.2018  6.9579"
      ]
     },
     "execution_count": 6,
     "metadata": {},
     "output_type": "execute_result"
    }
   ],
   "source": [
    "prices[[\"date\",\"gas\"]]"
   ]
  },
  {
   "cell_type": "markdown",
   "metadata": {},
   "source": [
    "### 5)Впорядкуйте вибрані дані за багаторівневим критерієм."
   ]
  },
  {
   "cell_type": "code",
   "execution_count": 21,
   "metadata": {},
   "outputs": [
    {
     "data": {
      "text/html": [
       "<div>\n",
       "<style scoped>\n",
       "    .dataframe tbody tr th:only-of-type {\n",
       "        vertical-align: middle;\n",
       "    }\n",
       "\n",
       "    .dataframe tbody tr th {\n",
       "        vertical-align: top;\n",
       "    }\n",
       "\n",
       "    .dataframe thead th {\n",
       "        text-align: right;\n",
       "    }\n",
       "</style>\n",
       "<table border=\"1\" class=\"dataframe\">\n",
       "  <thead>\n",
       "    <tr style=\"text-align: right;\">\n",
       "      <th></th>\n",
       "      <th>user_id</th>\n",
       "      <th>date</th>\n",
       "      <th>e_meter</th>\n",
       "      <th>g_meter</th>\n",
       "      <th>town</th>\n",
       "      <th>street</th>\n",
       "      <th>name</th>\n",
       "    </tr>\n",
       "  </thead>\n",
       "  <tbody>\n",
       "    <tr>\n",
       "      <th>0</th>\n",
       "      <td>200125</td>\n",
       "      <td>01.01.2017</td>\n",
       "      <td>1719</td>\n",
       "      <td>163</td>\n",
       "      <td>Lviv</td>\n",
       "      <td>Street_5</td>\n",
       "      <td>Name_1</td>\n",
       "    </tr>\n",
       "    <tr>\n",
       "      <th>1</th>\n",
       "      <td>200126</td>\n",
       "      <td>01.01.2017</td>\n",
       "      <td>3048</td>\n",
       "      <td>179</td>\n",
       "      <td>Lviv</td>\n",
       "      <td>Street_9</td>\n",
       "      <td>Name_2</td>\n",
       "    </tr>\n",
       "    <tr>\n",
       "      <th>2</th>\n",
       "      <td>200127</td>\n",
       "      <td>01.01.2017</td>\n",
       "      <td>3402</td>\n",
       "      <td>180</td>\n",
       "      <td>Lviv</td>\n",
       "      <td>Street_10</td>\n",
       "      <td>Name_3</td>\n",
       "    </tr>\n",
       "    <tr>\n",
       "      <th>3</th>\n",
       "      <td>200128</td>\n",
       "      <td>01.01.2017</td>\n",
       "      <td>1256</td>\n",
       "      <td>140</td>\n",
       "      <td>Stryi</td>\n",
       "      <td>Street_5</td>\n",
       "      <td>Name_4</td>\n",
       "    </tr>\n",
       "    <tr>\n",
       "      <th>4</th>\n",
       "      <td>200129</td>\n",
       "      <td>01.01.2017</td>\n",
       "      <td>1873</td>\n",
       "      <td>165</td>\n",
       "      <td>Gorodok</td>\n",
       "      <td>Street_8</td>\n",
       "      <td>Name_5</td>\n",
       "    </tr>\n",
       "  </tbody>\n",
       "</table>\n",
       "</div>"
      ],
      "text/plain": [
       "   user_id        date  e_meter  g_meter     town     street    name\n",
       "0   200125  01.01.2017     1719      163     Lviv   Street_5  Name_1\n",
       "1   200126  01.01.2017     3048      179     Lviv   Street_9  Name_2\n",
       "2   200127  01.01.2017     3402      180     Lviv  Street_10  Name_3\n",
       "3   200128  01.01.2017     1256      140    Stryi   Street_5  Name_4\n",
       "4   200129  01.01.2017     1873      165  Gorodok   Street_8  Name_5"
      ]
     },
     "execution_count": 21,
     "metadata": {},
     "output_type": "execute_result"
    }
   ],
   "source": [
    "data_meters.head().sort_values(by = [\"user_id\",\"e_meter\"])"
   ]
  },
  {
   "cell_type": "markdown",
   "metadata": {},
   "source": [
    "### 6)Випробуйте функції агрегації: знайдіть суму, середнє, найбільше та найменше значення. "
   ]
  },
  {
   "cell_type": "markdown",
   "metadata": {},
   "source": [
    "Сума по e_meter"
   ]
  },
  {
   "cell_type": "code",
   "execution_count": 8,
   "metadata": {},
   "outputs": [
    {
     "data": {
      "text/plain": [
       "3896242"
      ]
     },
     "execution_count": 8,
     "metadata": {},
     "output_type": "execute_result"
    }
   ],
   "source": [
    "data_meters.e_meter.sum()"
   ]
  },
  {
   "cell_type": "markdown",
   "metadata": {},
   "source": [
    "Середнє по g_meter"
   ]
  },
  {
   "cell_type": "code",
   "execution_count": 9,
   "metadata": {},
   "outputs": [
    {
     "data": {
      "text/plain": [
       "211.1153846153846"
      ]
     },
     "execution_count": 9,
     "metadata": {},
     "output_type": "execute_result"
    }
   ],
   "source": [
    "data_meters.g_meter.mean()"
   ]
  },
  {
   "cell_type": "markdown",
   "metadata": {},
   "source": [
    "Найбільше значення по e_meter & g_meter"
   ]
  },
  {
   "cell_type": "code",
   "execution_count": 10,
   "metadata": {},
   "outputs": [
    {
     "data": {
      "text/plain": [
       "7048"
      ]
     },
     "execution_count": 10,
     "metadata": {},
     "output_type": "execute_result"
    }
   ],
   "source": [
    "data_meters.e_meter.max()"
   ]
  },
  {
   "cell_type": "code",
   "execution_count": 11,
   "metadata": {},
   "outputs": [
    {
     "data": {
      "text/plain": [
       "342"
      ]
     },
     "execution_count": 11,
     "metadata": {},
     "output_type": "execute_result"
    }
   ],
   "source": [
    "data_meters.g_meter.max()"
   ]
  },
  {
   "cell_type": "markdown",
   "metadata": {},
   "source": [
    "Найменше значення по e_meter & g_meter"
   ]
  },
  {
   "cell_type": "code",
   "execution_count": 12,
   "metadata": {},
   "outputs": [
    {
     "data": {
      "text/plain": [
       "1025"
      ]
     },
     "execution_count": 12,
     "metadata": {},
     "output_type": "execute_result"
    }
   ],
   "source": [
    "data_meters.e_meter.min()"
   ]
  },
  {
   "cell_type": "code",
   "execution_count": 13,
   "metadata": {},
   "outputs": [
    {
     "data": {
      "text/plain": [
       "100"
      ]
     },
     "execution_count": 13,
     "metadata": {},
     "output_type": "execute_result"
    }
   ],
   "source": [
    "data_meters.g_meter.min()"
   ]
  },
  {
   "cell_type": "markdown",
   "metadata": {},
   "source": [
    "### 7)Об’єднайте таблиці "
   ]
  },
  {
   "cell_type": "code",
   "execution_count": 14,
   "metadata": {},
   "outputs": [
    {
     "data": {
      "text/html": [
       "<div>\n",
       "<style scoped>\n",
       "    .dataframe tbody tr th:only-of-type {\n",
       "        vertical-align: middle;\n",
       "    }\n",
       "\n",
       "    .dataframe tbody tr th {\n",
       "        vertical-align: top;\n",
       "    }\n",
       "\n",
       "    .dataframe thead th {\n",
       "        text-align: right;\n",
       "    }\n",
       "</style>\n",
       "<table border=\"1\" class=\"dataframe\">\n",
       "  <thead>\n",
       "    <tr style=\"text-align: right;\">\n",
       "      <th></th>\n",
       "      <th>date</th>\n",
       "      <th>upto100</th>\n",
       "      <th>more</th>\n",
       "      <th>gas</th>\n",
       "      <th>user_id</th>\n",
       "      <th>e_meter</th>\n",
       "      <th>g_meter</th>\n",
       "      <th>town</th>\n",
       "      <th>street</th>\n",
       "      <th>name</th>\n",
       "    </tr>\n",
       "  </thead>\n",
       "  <tbody>\n",
       "    <tr>\n",
       "      <th>0</th>\n",
       "      <td>01.04.2017</td>\n",
       "      <td>0.9</td>\n",
       "      <td>1.68</td>\n",
       "      <td>6.9579</td>\n",
       "      <td>200189</td>\n",
       "      <td>2470</td>\n",
       "      <td>168</td>\n",
       "      <td>Yavoriv</td>\n",
       "      <td>Street_1</td>\n",
       "      <td>Name_65</td>\n",
       "    </tr>\n",
       "    <tr>\n",
       "      <th>1</th>\n",
       "      <td>01.04.2017</td>\n",
       "      <td>0.9</td>\n",
       "      <td>1.68</td>\n",
       "      <td>6.9579</td>\n",
       "      <td>200187</td>\n",
       "      <td>3089</td>\n",
       "      <td>226</td>\n",
       "      <td>Yavoriv</td>\n",
       "      <td>Street_5</td>\n",
       "      <td>Name_63</td>\n",
       "    </tr>\n",
       "    <tr>\n",
       "      <th>2</th>\n",
       "      <td>01.05.2017</td>\n",
       "      <td>0.9</td>\n",
       "      <td>1.68</td>\n",
       "      <td>6.9579</td>\n",
       "      <td>200194</td>\n",
       "      <td>2314</td>\n",
       "      <td>206</td>\n",
       "      <td>Lviv</td>\n",
       "      <td>Street_5</td>\n",
       "      <td>Name_70</td>\n",
       "    </tr>\n",
       "    <tr>\n",
       "      <th>3</th>\n",
       "      <td>01.05.2017</td>\n",
       "      <td>0.9</td>\n",
       "      <td>1.68</td>\n",
       "      <td>6.9579</td>\n",
       "      <td>200128</td>\n",
       "      <td>1860</td>\n",
       "      <td>185</td>\n",
       "      <td>Stryi</td>\n",
       "      <td>Street_5</td>\n",
       "      <td>Name_4</td>\n",
       "    </tr>\n",
       "    <tr>\n",
       "      <th>4</th>\n",
       "      <td>01.07.2017</td>\n",
       "      <td>0.9</td>\n",
       "      <td>1.68</td>\n",
       "      <td>6.9579</td>\n",
       "      <td>200191</td>\n",
       "      <td>5953</td>\n",
       "      <td>189</td>\n",
       "      <td>Zhovkva</td>\n",
       "      <td>Street_2</td>\n",
       "      <td>Name_67</td>\n",
       "    </tr>\n",
       "    <tr>\n",
       "      <th>5</th>\n",
       "      <td>01.09.2017</td>\n",
       "      <td>0.9</td>\n",
       "      <td>1.68</td>\n",
       "      <td>6.9579</td>\n",
       "      <td>200182</td>\n",
       "      <td>5078</td>\n",
       "      <td>245</td>\n",
       "      <td>Gorodok</td>\n",
       "      <td>Street_8</td>\n",
       "      <td>Name_58</td>\n",
       "    </tr>\n",
       "    <tr>\n",
       "      <th>6</th>\n",
       "      <td>01.10.2017</td>\n",
       "      <td>0.9</td>\n",
       "      <td>1.68</td>\n",
       "      <td>6.9579</td>\n",
       "      <td>200187</td>\n",
       "      <td>4061</td>\n",
       "      <td>274</td>\n",
       "      <td>Yavoriv</td>\n",
       "      <td>Street_5</td>\n",
       "      <td>Name_63</td>\n",
       "    </tr>\n",
       "    <tr>\n",
       "      <th>7</th>\n",
       "      <td>01.10.2017</td>\n",
       "      <td>0.9</td>\n",
       "      <td>1.68</td>\n",
       "      <td>6.9579</td>\n",
       "      <td>200179</td>\n",
       "      <td>4556</td>\n",
       "      <td>235</td>\n",
       "      <td>Lviv</td>\n",
       "      <td>Street_9</td>\n",
       "      <td>Name_55</td>\n",
       "    </tr>\n",
       "    <tr>\n",
       "      <th>8</th>\n",
       "      <td>01.11.2017</td>\n",
       "      <td>0.9</td>\n",
       "      <td>1.68</td>\n",
       "      <td>6.9579</td>\n",
       "      <td>200131</td>\n",
       "      <td>4488</td>\n",
       "      <td>285</td>\n",
       "      <td>Lviv</td>\n",
       "      <td>Street_10</td>\n",
       "      <td>Name_7</td>\n",
       "    </tr>\n",
       "    <tr>\n",
       "      <th>9</th>\n",
       "      <td>01.01.2018</td>\n",
       "      <td>0.9</td>\n",
       "      <td>1.68</td>\n",
       "      <td>6.9579</td>\n",
       "      <td>200151</td>\n",
       "      <td>3157</td>\n",
       "      <td>267</td>\n",
       "      <td>Lviv</td>\n",
       "      <td>Street_6</td>\n",
       "      <td>Name_27</td>\n",
       "    </tr>\n",
       "    <tr>\n",
       "      <th>10</th>\n",
       "      <td>01.01.2018</td>\n",
       "      <td>0.9</td>\n",
       "      <td>1.68</td>\n",
       "      <td>6.9579</td>\n",
       "      <td>200189</td>\n",
       "      <td>4066</td>\n",
       "      <td>267</td>\n",
       "      <td>Yavoriv</td>\n",
       "      <td>Street_1</td>\n",
       "      <td>Name_65</td>\n",
       "    </tr>\n",
       "    <tr>\n",
       "      <th>11</th>\n",
       "      <td>01.01.2018</td>\n",
       "      <td>0.9</td>\n",
       "      <td>1.68</td>\n",
       "      <td>6.9579</td>\n",
       "      <td>200200</td>\n",
       "      <td>2898</td>\n",
       "      <td>297</td>\n",
       "      <td>Vynnyky</td>\n",
       "      <td>Street_6</td>\n",
       "      <td>Name_76</td>\n",
       "    </tr>\n",
       "  </tbody>\n",
       "</table>\n",
       "</div>"
      ],
      "text/plain": [
       "          date  upto100  more     gas  user_id  e_meter  g_meter     town  \\\n",
       "0   01.04.2017      0.9  1.68  6.9579   200189     2470      168  Yavoriv   \n",
       "1   01.04.2017      0.9  1.68  6.9579   200187     3089      226  Yavoriv   \n",
       "2   01.05.2017      0.9  1.68  6.9579   200194     2314      206     Lviv   \n",
       "3   01.05.2017      0.9  1.68  6.9579   200128     1860      185    Stryi   \n",
       "4   01.07.2017      0.9  1.68  6.9579   200191     5953      189  Zhovkva   \n",
       "5   01.09.2017      0.9  1.68  6.9579   200182     5078      245  Gorodok   \n",
       "6   01.10.2017      0.9  1.68  6.9579   200187     4061      274  Yavoriv   \n",
       "7   01.10.2017      0.9  1.68  6.9579   200179     4556      235     Lviv   \n",
       "8   01.11.2017      0.9  1.68  6.9579   200131     4488      285     Lviv   \n",
       "9   01.01.2018      0.9  1.68  6.9579   200151     3157      267     Lviv   \n",
       "10  01.01.2018      0.9  1.68  6.9579   200189     4066      267  Yavoriv   \n",
       "11  01.01.2018      0.9  1.68  6.9579   200200     2898      297  Vynnyky   \n",
       "\n",
       "       street     name  \n",
       "0    Street_1  Name_65  \n",
       "1    Street_5  Name_63  \n",
       "2    Street_5  Name_70  \n",
       "3    Street_5   Name_4  \n",
       "4    Street_2  Name_67  \n",
       "5    Street_8  Name_58  \n",
       "6    Street_5  Name_63  \n",
       "7    Street_9  Name_55  \n",
       "8   Street_10   Name_7  \n",
       "9    Street_6  Name_27  \n",
       "10   Street_1  Name_65  \n",
       "11   Street_6  Name_76  "
      ]
     },
     "execution_count": 14,
     "metadata": {},
     "output_type": "execute_result"
    }
   ],
   "source": [
    "prices.merge(data_meters.sample(12))"
   ]
  },
  {
   "cell_type": "markdown",
   "metadata": {},
   "source": [
    "### 8)Обчисліть, скільки електрики та скільки газу використали споживачі впродовж року, скільки кожного місяця."
   ]
  },
  {
   "cell_type": "code",
   "execution_count": 24,
   "metadata": {},
   "outputs": [
    {
     "data": {
      "text/html": [
       "<div>\n",
       "<style scoped>\n",
       "    .dataframe tbody tr th:only-of-type {\n",
       "        vertical-align: middle;\n",
       "    }\n",
       "\n",
       "    .dataframe tbody tr th {\n",
       "        vertical-align: top;\n",
       "    }\n",
       "\n",
       "    .dataframe thead th {\n",
       "        text-align: right;\n",
       "    }\n",
       "</style>\n",
       "<table border=\"1\" class=\"dataframe\">\n",
       "  <thead>\n",
       "    <tr style=\"text-align: right;\">\n",
       "      <th></th>\n",
       "      <th>date</th>\n",
       "      <th>upto100</th>\n",
       "      <th>more</th>\n",
       "      <th>gas</th>\n",
       "      <th>user_id</th>\n",
       "      <th>e_meter</th>\n",
       "      <th>g_meter</th>\n",
       "      <th>town</th>\n",
       "      <th>street</th>\n",
       "      <th>name</th>\n",
       "    </tr>\n",
       "  </thead>\n",
       "  <tbody>\n",
       "    <tr>\n",
       "      <th>0</th>\n",
       "      <td>01.01.2017</td>\n",
       "      <td>0.714</td>\n",
       "      <td>1.29</td>\n",
       "      <td>6.8790</td>\n",
       "      <td>200173</td>\n",
       "      <td>1669</td>\n",
       "      <td>141</td>\n",
       "      <td>Briuhovychi</td>\n",
       "      <td>Street_1</td>\n",
       "      <td>Name_49</td>\n",
       "    </tr>\n",
       "    <tr>\n",
       "      <th>1</th>\n",
       "      <td>01.02.2017</td>\n",
       "      <td>0.714</td>\n",
       "      <td>1.29</td>\n",
       "      <td>6.8790</td>\n",
       "      <td>200186</td>\n",
       "      <td>2053</td>\n",
       "      <td>205</td>\n",
       "      <td>Yavoriv</td>\n",
       "      <td>Street_7</td>\n",
       "      <td>Name_62</td>\n",
       "    </tr>\n",
       "    <tr>\n",
       "      <th>2</th>\n",
       "      <td>01.03.2017</td>\n",
       "      <td>0.900</td>\n",
       "      <td>1.68</td>\n",
       "      <td>6.8790</td>\n",
       "      <td>200136</td>\n",
       "      <td>4168</td>\n",
       "      <td>146</td>\n",
       "      <td>Lviv</td>\n",
       "      <td>Street_4</td>\n",
       "      <td>Name_12</td>\n",
       "    </tr>\n",
       "    <tr>\n",
       "      <th>3</th>\n",
       "      <td>01.06.2017</td>\n",
       "      <td>0.900</td>\n",
       "      <td>1.68</td>\n",
       "      <td>6.9579</td>\n",
       "      <td>200145</td>\n",
       "      <td>5521</td>\n",
       "      <td>205</td>\n",
       "      <td>Gorodok</td>\n",
       "      <td>Street_6</td>\n",
       "      <td>Name_21</td>\n",
       "    </tr>\n",
       "    <tr>\n",
       "      <th>4</th>\n",
       "      <td>01.06.2017</td>\n",
       "      <td>0.900</td>\n",
       "      <td>1.68</td>\n",
       "      <td>6.9579</td>\n",
       "      <td>200132</td>\n",
       "      <td>5617</td>\n",
       "      <td>226</td>\n",
       "      <td>Lviv</td>\n",
       "      <td>Street_1</td>\n",
       "      <td>Name_8</td>\n",
       "    </tr>\n",
       "    <tr>\n",
       "      <th>5</th>\n",
       "      <td>01.06.2017</td>\n",
       "      <td>0.900</td>\n",
       "      <td>1.68</td>\n",
       "      <td>6.9579</td>\n",
       "      <td>200127</td>\n",
       "      <td>4210</td>\n",
       "      <td>235</td>\n",
       "      <td>Lviv</td>\n",
       "      <td>Street_10</td>\n",
       "      <td>Name_3</td>\n",
       "    </tr>\n",
       "    <tr>\n",
       "      <th>6</th>\n",
       "      <td>01.08.2017</td>\n",
       "      <td>0.900</td>\n",
       "      <td>1.68</td>\n",
       "      <td>6.9579</td>\n",
       "      <td>200140</td>\n",
       "      <td>4225</td>\n",
       "      <td>249</td>\n",
       "      <td>Mostyska</td>\n",
       "      <td>Street_8</td>\n",
       "      <td>Name_16</td>\n",
       "    </tr>\n",
       "    <tr>\n",
       "      <th>7</th>\n",
       "      <td>01.09.2017</td>\n",
       "      <td>0.900</td>\n",
       "      <td>1.68</td>\n",
       "      <td>6.9579</td>\n",
       "      <td>200179</td>\n",
       "      <td>4345</td>\n",
       "      <td>227</td>\n",
       "      <td>Lviv</td>\n",
       "      <td>Street_9</td>\n",
       "      <td>Name_55</td>\n",
       "    </tr>\n",
       "    <tr>\n",
       "      <th>8</th>\n",
       "      <td>01.10.2017</td>\n",
       "      <td>0.900</td>\n",
       "      <td>1.68</td>\n",
       "      <td>6.9579</td>\n",
       "      <td>200178</td>\n",
       "      <td>3961</td>\n",
       "      <td>264</td>\n",
       "      <td>Lviv</td>\n",
       "      <td>Street_8</td>\n",
       "      <td>Name_54</td>\n",
       "    </tr>\n",
       "    <tr>\n",
       "      <th>9</th>\n",
       "      <td>01.11.2017</td>\n",
       "      <td>0.900</td>\n",
       "      <td>1.68</td>\n",
       "      <td>6.9579</td>\n",
       "      <td>200159</td>\n",
       "      <td>5884</td>\n",
       "      <td>213</td>\n",
       "      <td>Pustomyty</td>\n",
       "      <td>Street_2</td>\n",
       "      <td>Name_35</td>\n",
       "    </tr>\n",
       "    <tr>\n",
       "      <th>10</th>\n",
       "      <td>01.01.2018</td>\n",
       "      <td>0.900</td>\n",
       "      <td>1.68</td>\n",
       "      <td>6.9579</td>\n",
       "      <td>200196</td>\n",
       "      <td>5029</td>\n",
       "      <td>249</td>\n",
       "      <td>Lviv</td>\n",
       "      <td>Street_6</td>\n",
       "      <td>Name_72</td>\n",
       "    </tr>\n",
       "    <tr>\n",
       "      <th>11</th>\n",
       "      <td>01.01.2018</td>\n",
       "      <td>0.900</td>\n",
       "      <td>1.68</td>\n",
       "      <td>6.9579</td>\n",
       "      <td>200150</td>\n",
       "      <td>3011</td>\n",
       "      <td>330</td>\n",
       "      <td>Lviv</td>\n",
       "      <td>Street_6</td>\n",
       "      <td>Name_26</td>\n",
       "    </tr>\n",
       "  </tbody>\n",
       "</table>\n",
       "</div>"
      ],
      "text/plain": [
       "          date  upto100  more     gas  user_id  e_meter  g_meter         town  \\\n",
       "0   01.01.2017    0.714  1.29  6.8790   200173     1669      141  Briuhovychi   \n",
       "1   01.02.2017    0.714  1.29  6.8790   200186     2053      205      Yavoriv   \n",
       "2   01.03.2017    0.900  1.68  6.8790   200136     4168      146         Lviv   \n",
       "3   01.06.2017    0.900  1.68  6.9579   200145     5521      205      Gorodok   \n",
       "4   01.06.2017    0.900  1.68  6.9579   200132     5617      226         Lviv   \n",
       "5   01.06.2017    0.900  1.68  6.9579   200127     4210      235         Lviv   \n",
       "6   01.08.2017    0.900  1.68  6.9579   200140     4225      249     Mostyska   \n",
       "7   01.09.2017    0.900  1.68  6.9579   200179     4345      227         Lviv   \n",
       "8   01.10.2017    0.900  1.68  6.9579   200178     3961      264         Lviv   \n",
       "9   01.11.2017    0.900  1.68  6.9579   200159     5884      213    Pustomyty   \n",
       "10  01.01.2018    0.900  1.68  6.9579   200196     5029      249         Lviv   \n",
       "11  01.01.2018    0.900  1.68  6.9579   200150     3011      330         Lviv   \n",
       "\n",
       "       street     name  \n",
       "0    Street_1  Name_49  \n",
       "1    Street_7  Name_62  \n",
       "2    Street_4  Name_12  \n",
       "3    Street_6  Name_21  \n",
       "4    Street_1   Name_8  \n",
       "5   Street_10   Name_3  \n",
       "6    Street_8  Name_16  \n",
       "7    Street_9  Name_55  \n",
       "8    Street_8  Name_54  \n",
       "9    Street_2  Name_35  \n",
       "10   Street_6  Name_72  \n",
       "11   Street_6  Name_26  "
      ]
     },
     "execution_count": 24,
     "metadata": {},
     "output_type": "execute_result"
    }
   ],
   "source": [
    "new_prices = prices.merge(data_meters.sample(12))\n",
    "new_prices"
   ]
  },
  {
   "cell_type": "markdown",
   "metadata": {},
   "source": [
    "b)який тип даних в таблиці зображає дату? якщо str, то як його перетворити на Date? "
   ]
  },
  {
   "cell_type": "code",
   "execution_count": 25,
   "metadata": {},
   "outputs": [
    {
     "name": "stdout",
     "output_type": "stream",
     "text": [
      "0    2017-01-01\n",
      "1    2017-01-02\n",
      "2    2017-01-03\n",
      "3    2017-01-06\n",
      "4    2017-01-06\n",
      "5    2017-01-06\n",
      "6    2017-01-08\n",
      "7    2017-01-09\n",
      "8    2017-01-10\n",
      "9    2017-01-11\n",
      "10   2018-01-01\n",
      "11   2018-01-01\n",
      "Name: date, dtype: datetime64[ns]\n"
     ]
    }
   ],
   "source": [
    "new_prices.date = pd.DatetimeIndex(new_prices.date)\n",
    "print(new_prices[\"date\"])"
   ]
  },
  {
   "cell_type": "markdown",
   "metadata": {},
   "source": [
    "Кожного місяця:"
   ]
  },
  {
   "cell_type": "code",
   "execution_count": 30,
   "metadata": {},
   "outputs": [
    {
     "data": {
      "text/html": [
       "<div>\n",
       "<style scoped>\n",
       "    .dataframe tbody tr th:only-of-type {\n",
       "        vertical-align: middle;\n",
       "    }\n",
       "\n",
       "    .dataframe tbody tr th {\n",
       "        vertical-align: top;\n",
       "    }\n",
       "\n",
       "    .dataframe thead th {\n",
       "        text-align: right;\n",
       "    }\n",
       "</style>\n",
       "<table border=\"1\" class=\"dataframe\">\n",
       "  <thead>\n",
       "    <tr style=\"text-align: right;\">\n",
       "      <th></th>\n",
       "      <th>e_meter</th>\n",
       "      <th>g_meter</th>\n",
       "    </tr>\n",
       "    <tr>\n",
       "      <th>date</th>\n",
       "      <th></th>\n",
       "      <th></th>\n",
       "    </tr>\n",
       "  </thead>\n",
       "  <tbody>\n",
       "    <tr>\n",
       "      <th>2017-01-01</th>\n",
       "      <td>1669</td>\n",
       "      <td>141</td>\n",
       "    </tr>\n",
       "    <tr>\n",
       "      <th>2017-01-02</th>\n",
       "      <td>2053</td>\n",
       "      <td>205</td>\n",
       "    </tr>\n",
       "    <tr>\n",
       "      <th>2017-01-03</th>\n",
       "      <td>4168</td>\n",
       "      <td>146</td>\n",
       "    </tr>\n",
       "    <tr>\n",
       "      <th>2017-01-04</th>\n",
       "      <td>0</td>\n",
       "      <td>0</td>\n",
       "    </tr>\n",
       "    <tr>\n",
       "      <th>2017-01-05</th>\n",
       "      <td>0</td>\n",
       "      <td>0</td>\n",
       "    </tr>\n",
       "    <tr>\n",
       "      <th>...</th>\n",
       "      <td>...</td>\n",
       "      <td>...</td>\n",
       "    </tr>\n",
       "    <tr>\n",
       "      <th>2017-12-28</th>\n",
       "      <td>0</td>\n",
       "      <td>0</td>\n",
       "    </tr>\n",
       "    <tr>\n",
       "      <th>2017-12-29</th>\n",
       "      <td>0</td>\n",
       "      <td>0</td>\n",
       "    </tr>\n",
       "    <tr>\n",
       "      <th>2017-12-30</th>\n",
       "      <td>0</td>\n",
       "      <td>0</td>\n",
       "    </tr>\n",
       "    <tr>\n",
       "      <th>2017-12-31</th>\n",
       "      <td>0</td>\n",
       "      <td>0</td>\n",
       "    </tr>\n",
       "    <tr>\n",
       "      <th>2018-01-01</th>\n",
       "      <td>8040</td>\n",
       "      <td>579</td>\n",
       "    </tr>\n",
       "  </tbody>\n",
       "</table>\n",
       "<p>366 rows × 2 columns</p>\n",
       "</div>"
      ],
      "text/plain": [
       "            e_meter  g_meter\n",
       "date                        \n",
       "2017-01-01     1669      141\n",
       "2017-01-02     2053      205\n",
       "2017-01-03     4168      146\n",
       "2017-01-04        0        0\n",
       "2017-01-05        0        0\n",
       "...             ...      ...\n",
       "2017-12-28        0        0\n",
       "2017-12-29        0        0\n",
       "2017-12-30        0        0\n",
       "2017-12-31        0        0\n",
       "2018-01-01     8040      579\n",
       "\n",
       "[366 rows x 2 columns]"
      ]
     },
     "execution_count": 30,
     "metadata": {},
     "output_type": "execute_result"
    }
   ],
   "source": [
    "new_prices.groupby(pd.Grouper(key=\"date\", freq=\"D\")).sum()[[\"e_meter\",\"g_meter\"]]"
   ]
  },
  {
   "cell_type": "markdown",
   "metadata": {},
   "source": [
    "Впродовж року:"
   ]
  },
  {
   "cell_type": "code",
   "execution_count": 31,
   "metadata": {},
   "outputs": [
    {
     "data": {
      "text/html": [
       "<div>\n",
       "<style scoped>\n",
       "    .dataframe tbody tr th:only-of-type {\n",
       "        vertical-align: middle;\n",
       "    }\n",
       "\n",
       "    .dataframe tbody tr th {\n",
       "        vertical-align: top;\n",
       "    }\n",
       "\n",
       "    .dataframe thead th {\n",
       "        text-align: right;\n",
       "    }\n",
       "</style>\n",
       "<table border=\"1\" class=\"dataframe\">\n",
       "  <thead>\n",
       "    <tr style=\"text-align: right;\">\n",
       "      <th></th>\n",
       "      <th>e_meter</th>\n",
       "      <th>g_meter</th>\n",
       "    </tr>\n",
       "    <tr>\n",
       "      <th>date</th>\n",
       "      <th></th>\n",
       "      <th></th>\n",
       "    </tr>\n",
       "  </thead>\n",
       "  <tbody>\n",
       "    <tr>\n",
       "      <th>2017-12-31</th>\n",
       "      <td>41653</td>\n",
       "      <td>2111</td>\n",
       "    </tr>\n",
       "    <tr>\n",
       "      <th>2018-12-31</th>\n",
       "      <td>8040</td>\n",
       "      <td>579</td>\n",
       "    </tr>\n",
       "  </tbody>\n",
       "</table>\n",
       "</div>"
      ],
      "text/plain": [
       "            e_meter  g_meter\n",
       "date                        \n",
       "2017-12-31    41653     2111\n",
       "2018-12-31     8040      579"
      ]
     },
     "execution_count": 31,
     "metadata": {},
     "output_type": "execute_result"
    }
   ],
   "source": [
    "new_prices.groupby(pd.Grouper(key=\"date\", freq=\"Y\")).sum()[[\"e_meter\",\"g_meter\"]]"
   ]
  },
  {
   "cell_type": "markdown",
   "metadata": {},
   "source": [
    "### 9)Порахуйте, скільки коштів повинні заплатити споживачі за електрику, за газ, разом."
   ]
  },
  {
   "cell_type": "markdown",
   "metadata": {},
   "source": [
    "За електрику:"
   ]
  },
  {
   "cell_type": "markdown",
   "metadata": {},
   "source": [
    "### 10)Визначте сумарні витрати газу/електрики кожного місяця"
   ]
  },
  {
   "cell_type": "markdown",
   "metadata": {},
   "source": [
    "### 11)Визначте споживання газу/електрики вподовж року обраним споживачем"
   ]
  },
  {
   "cell_type": "code",
   "execution_count": 47,
   "metadata": {},
   "outputs": [
    {
     "data": {
      "text/html": [
       "<div>\n",
       "<style scoped>\n",
       "    .dataframe tbody tr th:only-of-type {\n",
       "        vertical-align: middle;\n",
       "    }\n",
       "\n",
       "    .dataframe tbody tr th {\n",
       "        vertical-align: top;\n",
       "    }\n",
       "\n",
       "    .dataframe thead th {\n",
       "        text-align: right;\n",
       "    }\n",
       "</style>\n",
       "<table border=\"1\" class=\"dataframe\">\n",
       "  <thead>\n",
       "    <tr style=\"text-align: right;\">\n",
       "      <th></th>\n",
       "      <th>e_meter</th>\n",
       "      <th>g_meter</th>\n",
       "    </tr>\n",
       "    <tr>\n",
       "      <th>date</th>\n",
       "      <th></th>\n",
       "      <th></th>\n",
       "    </tr>\n",
       "  </thead>\n",
       "  <tbody>\n",
       "    <tr>\n",
       "      <th>2017-12-31</th>\n",
       "      <td>4345</td>\n",
       "      <td>227</td>\n",
       "    </tr>\n",
       "  </tbody>\n",
       "</table>\n",
       "</div>"
      ],
      "text/plain": [
       "            e_meter  g_meter\n",
       "date                        \n",
       "2017-12-31     4345      227"
      ]
     },
     "execution_count": 47,
     "metadata": {},
     "output_type": "execute_result"
    }
   ],
   "source": [
    "step_1 = new_prices\n",
    "step_2 = step_1[[\"date\",\"user_id\",\"g_meter\",\"e_meter\"]]\n",
    "#можна вводити конкретний id користувача з консолі і заносити значення в user_lable\n",
    "user_lable = 200179\n",
    "step_2[step_2.user_id == user_lable].groupby(pd.Grouper(key=\"date\", freq=\"Y\")).sum()[[\"e_meter\",\"g_meter\"]]"
   ]
  },
  {
   "cell_type": "markdown",
   "metadata": {},
   "source": [
    "### 12)Знайдіть споживача, який повинен заплатити найбільше (найменше)"
   ]
  },
  {
   "cell_type": "markdown",
   "metadata": {},
   "source": [
    "Користувач який має заплатити найбільше:"
   ]
  },
  {
   "cell_type": "code",
   "execution_count": 55,
   "metadata": {},
   "outputs": [
    {
     "name": "stderr",
     "output_type": "stream",
     "text": [
      "c:\\users\\andriy\\appdata\\local\\programs\\python\\python37\\lib\\site-packages\\ipykernel_launcher.py:3: SettingWithCopyWarning: \n",
      "A value is trying to be set on a copy of a slice from a DataFrame.\n",
      "Try using .loc[row_indexer,col_indexer] = value instead\n",
      "\n",
      "See the caveats in the documentation: http://pandas.pydata.org/pandas-docs/stable/user_guide/indexing.html#returning-a-view-versus-a-copy\n",
      "  This is separate from the ipykernel package so we can avoid doing imports until\n"
     ]
    },
    {
     "data": {
      "text/plain": [
       "user_id    200196\n",
       "egsum        6097\n",
       "dtype: int64"
      ]
     },
     "execution_count": 55,
     "metadata": {},
     "output_type": "execute_result"
    }
   ],
   "source": [
    "step_1 = new_prices\n",
    "step_2 = step_1[[\"user_id\",\"g_meter\",\"e_meter\"]]\n",
    "step_2[\"egsum\"] = step_2.g_meter + step_2.e_meter\n",
    "step_3 = step_2[[\"user_id\",\"egsum\"]].max()\n",
    "step_3"
   ]
  },
  {
   "cell_type": "markdown",
   "metadata": {},
   "source": [
    "Користувач який має заплатити найменше:"
   ]
  },
  {
   "cell_type": "code",
   "execution_count": 56,
   "metadata": {},
   "outputs": [
    {
     "data": {
      "text/plain": [
       "user_id    200127\n",
       "egsum        1810\n",
       "dtype: int64"
      ]
     },
     "execution_count": 56,
     "metadata": {},
     "output_type": "execute_result"
    }
   ],
   "source": [
    "step_3 = step_2[[\"user_id\",\"egsum\"]].min()\n",
    "step_3"
   ]
  },
  {
   "cell_type": "markdown",
   "metadata": {},
   "source": [
    "### 13)Побудуйте графіки, діаграми споживання газу, електрики"
   ]
  },
  {
   "cell_type": "markdown",
   "metadata": {},
   "source": [
    "a)наприклад, графіки споживання газу та електрики вказаного користувача"
   ]
  },
  {
   "cell_type": "code",
   "execution_count": 82,
   "metadata": {},
   "outputs": [
    {
     "name": "stdout",
     "output_type": "stream",
     "text": [
      "4345.0\n"
     ]
    },
    {
     "data": {
      "image/png": "[encoded data removed]",
      "text/plain": [
       "<Figure size 432x288 with 1 Axes>"
      ]
     },
     "metadata": {
      "needs_background": "light"
     },
     "output_type": "display_data"
    }
   ],
   "source": [
    "step_1 = new_prices\n",
    "step_2 = step_1[[\"date\",\"user_id\",\"g_meter\",\"e_meter\"]]\n",
    "user_lable = 200179\n",
    "data = [float(step_2[step_2.user_id == user_lable].e_meter), float(step_2[step_2.user_id == user_lable].g_meter)]\n",
    "\n",
    "x = np.arange(2)\n",
    "plt.bar(x,data)\n",
    "plt.xticks(x,[\"e_meter\",\"g_meter\"])\n",
    "plt.title(\"ID \"+str(user_lable))\n",
    "plt.show()"
   ]
  },
  {
   "cell_type": "markdown",
   "metadata": {},
   "source": [
    "b)діаграму витрат по місяцях вказаного користувача"
   ]
  },
  {
   "cell_type": "code",
   "execution_count": 94,
   "metadata": {},
   "outputs": [
    {
     "name": "stderr",
     "output_type": "stream",
     "text": [
      "c:\\users\\andriy\\appdata\\local\\programs\\python\\python37\\lib\\site-packages\\ipykernel_launcher.py:3: SettingWithCopyWarning: \n",
      "A value is trying to be set on a copy of a slice from a DataFrame.\n",
      "Try using .loc[row_indexer,col_indexer] = value instead\n",
      "\n",
      "See the caveats in the documentation: http://pandas.pydata.org/pandas-docs/stable/user_guide/indexing.html#returning-a-view-versus-a-copy\n",
      "  This is separate from the ipykernel package so we can avoid doing imports until\n"
     ]
    },
    {
     "data": {
      "image/png": "[encoded data removed]",
      "text/plain": [
       "<Figure size 432x288 with 1 Axes>"
      ]
     },
     "metadata": {
      "needs_background": "light"
     },
     "output_type": "display_data"
    }
   ],
   "source": [
    "step_1 = new_prices\n",
    "step_2 = step_1[[\"date\",\"user_id\",\"g_meter\",\"e_meter\"]]\n",
    "step_2[\"egsum\"] = step_2.g_meter + step_2.e_meter\n",
    "user_lable = 200179\n",
    "step_3 = step_2[step_2.user_id == user_lable].groupby(pd.Grouper(key=\"date\", freq=\"M\")).sum()[[\"egsum\"]]\n",
    "data = []\n",
    "data.append(step_3.index.strftime(\"%Y-%m-%d\")[0])\n",
    "costs = float(step_3.egsum)\n",
    "\n",
    "x = np.arange(1)\n",
    "plt.bar(x,costs)\n",
    "plt.xticks(x,data)\n",
    "plt.title(\"ID \"+str(user_lable))\n",
    "plt.show()"
   ]
  },
  {
   "cell_type": "markdown",
   "metadata": {},
   "source": [
    "c)діаграму витрат/споживання за рік по містах"
   ]
  },
  {
   "cell_type": "code",
   "execution_count": null,
   "metadata": {},
   "outputs": [],
   "source": []
  }
 ],
 "metadata": {
  "kernelspec": {
   "display_name": "Python 3",
   "language": "python",
   "name": "python3"
  },
  "language_info": {
   "codemirror_mode": {
    "name": "ipython",
    "version": 3
   },
   "file_extension": ".py",
   "mimetype": "text/x-python",
   "name": "python",
   "nbconvert_exporter": "python",
   "pygments_lexer": "ipython3",
   "version": "3.7.3"
  }
 },
 "nbformat": 4,
 "nbformat_minor": 2
}
